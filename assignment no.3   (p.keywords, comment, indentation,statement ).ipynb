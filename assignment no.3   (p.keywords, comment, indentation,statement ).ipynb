{
 "cells": [
  {
   "cell_type": "markdown",
   "id": "1c5093ea",
   "metadata": {},
   "source": [
    "# python keywords, identifiers, comments, indentation and statement . assignment no.3"
   ]
  },
  {
   "cell_type": "raw",
   "id": "59e4ff19",
   "metadata": {},
   "source": [
    "Q.1 explain the significance of python keywords and provide of five keywords"
   ]
  },
  {
   "cell_type": "raw",
   "id": "3e1eb855",
   "metadata": {},
   "source": [
    "#there are 35 keywords in python"
   ]
  },
  {
   "cell_type": "code",
   "execution_count": 23,
   "id": "5cdabfa5",
   "metadata": {},
   "outputs": [
    {
     "name": "stdout",
     "output_type": "stream",
     "text": [
      "hello, Alice\n"
     ]
    }
   ],
   "source": [
    "#no.1  def\n",
    "\n",
    "def greet(name):      #define funcation name greet\n",
    "    print(\"hello, \" + name)   #print a greeting massage  \n",
    "    \n",
    "greet(\"Alice\")"
   ]
  },
  {
   "cell_type": "code",
   "execution_count": 24,
   "id": "cb10ab1e",
   "metadata": {},
   "outputs": [
    {
     "name": "stdout",
     "output_type": "stream",
     "text": [
      "x is positive\n"
     ]
    }
   ],
   "source": [
    "#if, else, elif:\n",
    "\n",
    "x = 10 \n",
    "if x >0:     #check if x is positive\n",
    "    print(\"x is positive\")\n",
    "elif x <0:  #check x is negative\n",
    "    print(\"x is negative\")"
   ]
  },
  {
   "cell_type": "code",
   "execution_count": 26,
   "id": "38d3b862",
   "metadata": {},
   "outputs": [
    {
     "name": "stdout",
     "output_type": "stream",
     "text": [
      "apple\n",
      "banana\n",
      "cherry\n"
     ]
    }
   ],
   "source": [
    "#for:\n",
    "\n",
    "fruit = [\"apple\",\"banana\",\"cherry\"]#creat a list of fruit\n",
    "for fruit in fruit:    #loop over the list\n",
    "    print(fruit)      #print each fruit"
   ]
  },
  {
   "cell_type": "code",
   "execution_count": 30,
   "id": "cf76d62b",
   "metadata": {},
   "outputs": [
    {
     "name": "stdout",
     "output_type": "stream",
     "text": [
      "3.141592653589793\n"
     ]
    }
   ],
   "source": [
    "# import\n",
    "\n",
    "\n",
    "import math\n",
    "print(math.pi)"
   ]
  },
  {
   "cell_type": "code",
   "execution_count": null,
   "id": "9219c1d8",
   "metadata": {},
   "outputs": [],
   "source": []
  },
  {
   "cell_type": "code",
   "execution_count": 31,
   "id": "ace34f45",
   "metadata": {},
   "outputs": [
    {
     "name": "stdout",
     "output_type": "stream",
     "text": [
      "7\n"
     ]
    }
   ],
   "source": [
    "from random import randint\n",
    "print(randint(1,10))"
   ]
  },
  {
   "cell_type": "code",
   "execution_count": null,
   "id": "73ebf8c4",
   "metadata": {},
   "outputs": [],
   "source": []
  },
  {
   "cell_type": "code",
   "execution_count": 32,
   "id": "dc60de45",
   "metadata": {},
   "outputs": [
    {
     "name": "stdout",
     "output_type": "stream",
     "text": [
      "[1 2 3]\n"
     ]
    }
   ],
   "source": [
    "import numpy as np\n",
    "print(np.array([1,2,3]))"
   ]
  },
  {
   "cell_type": "raw",
   "id": "9463ab0b",
   "metadata": {},
   "source": [
    "Q.2) describe the rules for defining indentifiers in python and provide an example."
   ]
  },
  {
   "cell_type": "code",
   "execution_count": 1,
   "id": "38747a46",
   "metadata": {},
   "outputs": [],
   "source": [
    "# rule.1) Identifiers can contain letter (a-z,A-Z), digit(0-9),and underscore(_), but they cannot start  with a digit\n",
    "# rule.3) indentifiers cannot be keywords, which are reserved word that have special meaning in python.  for example: if, def, class,import, etc are key words and cannot be used as identifiers.\n",
    "#rule.2) identifiers are case-sensitive, which means that name and Name are different indentifiers.\n",
    "# rule.4) indentifiers cannot contain spaces or special character such as !, @, #, $,etc."
   ]
  },
  {
   "cell_type": "code",
   "execution_count": 3,
   "id": "20e17bb4",
   "metadata": {},
   "outputs": [
    {
     "name": "stdout",
     "output_type": "stream",
     "text": [
      "priya\n"
     ]
    }
   ],
   "source": [
    "#rule 1) ex.\n",
    "\n",
    "a = 'priya'\n",
    "print(a)"
   ]
  },
  {
   "cell_type": "code",
   "execution_count": 4,
   "id": "7a65f24c",
   "metadata": {},
   "outputs": [
    {
     "name": "stdout",
     "output_type": "stream",
     "text": [
      "mohini\n"
     ]
    }
   ],
   "source": [
    "_A = 'mohini'\n",
    "print(_A)"
   ]
  },
  {
   "cell_type": "code",
   "execution_count": 6,
   "id": "e9291b00",
   "metadata": {},
   "outputs": [
    {
     "ename": "SyntaxError",
     "evalue": "cannot assign to literal here. Maybe you meant '==' instead of '='? (2837554845.py, line 1)",
     "output_type": "error",
     "traceback": [
      "\u001b[1;36m  Cell \u001b[1;32mIn[6], line 1\u001b[1;36m\u001b[0m\n\u001b[1;33m    9 = 'rohan'     # cannot start with a digit\u001b[0m\n\u001b[1;37m    ^\u001b[0m\n\u001b[1;31mSyntaxError\u001b[0m\u001b[1;31m:\u001b[0m cannot assign to literal here. Maybe you meant '==' instead of '='?\n"
     ]
    }
   ],
   "source": [
    "9 = 'rohan'     # cannot start with a digit\n",
    "print(9)"
   ]
  },
  {
   "cell_type": "code",
   "execution_count": 7,
   "id": "248ff1c3",
   "metadata": {},
   "outputs": [
    {
     "ename": "NameError",
     "evalue": "name 'Name' is not defined",
     "output_type": "error",
     "traceback": [
      "\u001b[1;31m---------------------------------------------------------------------------\u001b[0m",
      "\u001b[1;31mNameError\u001b[0m                                 Traceback (most recent call last)",
      "Cell \u001b[1;32mIn[7], line 4\u001b[0m\n\u001b[0;32m      1\u001b[0m \u001b[38;5;66;03m#rule 2 . ex.\u001b[39;00m\n\u001b[0;32m      3\u001b[0m name \u001b[38;5;241m=\u001b[39m \u001b[38;5;124m'\u001b[39m\u001b[38;5;124mpriya\u001b[39m\u001b[38;5;124m'\u001b[39m    \u001b[38;5;66;03m# n is small\u001b[39;00m\n\u001b[1;32m----> 4\u001b[0m \u001b[38;5;28mprint\u001b[39m(Name)\n",
      "\u001b[1;31mNameError\u001b[0m: name 'Name' is not defined"
     ]
    }
   ],
   "source": [
    "#rule 2 . ex.\n",
    "\n",
    "name = 'priya'    # n is small\n",
    "print(Name)     # N is capital"
   ]
  },
  {
   "cell_type": "code",
   "execution_count": 9,
   "id": "e56ada04",
   "metadata": {},
   "outputs": [
    {
     "name": "stdout",
     "output_type": "stream",
     "text": [
      "hello, Alice\n"
     ]
    }
   ],
   "source": [
    "#rule.3 ex\n",
    "\n",
    "\n",
    "def greet(name):      #define funcation name greet\n",
    "    print(\"hello, \" + name)   #print a greeting massage  \n",
    "    \n",
    "greet(\"Alice\")"
   ]
  },
  {
   "cell_type": "code",
   "execution_count": 10,
   "id": "c49f6572",
   "metadata": {},
   "outputs": [
    {
     "ename": "SyntaxError",
     "evalue": "invalid syntax (504243383.py, line 4)",
     "output_type": "error",
     "traceback": [
      "\u001b[1;36m  Cell \u001b[1;32mIn[10], line 4\u001b[1;36m\u001b[0m\n\u001b[1;33m    print(name!)\u001b[0m\n\u001b[1;37m              ^\u001b[0m\n\u001b[1;31mSyntaxError\u001b[0m\u001b[1;31m:\u001b[0m invalid syntax\n"
     ]
    }
   ],
   "source": [
    "#rule 4 \n",
    "\n",
    "name!= 'mohini'\n",
    "print(name!)"
   ]
  },
  {
   "cell_type": "code",
   "execution_count": 11,
   "id": "cc6050f9",
   "metadata": {},
   "outputs": [
    {
     "ename": "SyntaxError",
     "evalue": "invalid syntax. Maybe you meant '==' or ':=' instead of '='? (4010452611.py, line 1)",
     "output_type": "error",
     "traceback": [
      "\u001b[1;36m  Cell \u001b[1;32mIn[11], line 1\u001b[1;36m\u001b[0m\n\u001b[1;33m    @name = 'priya'\u001b[0m\n\u001b[1;37m     ^\u001b[0m\n\u001b[1;31mSyntaxError\u001b[0m\u001b[1;31m:\u001b[0m invalid syntax. Maybe you meant '==' or ':=' instead of '='?\n"
     ]
    }
   ],
   "source": [
    "@name = 'priya'\n",
    "print(@name)"
   ]
  },
  {
   "cell_type": "raw",
   "id": "a1f2dff9",
   "metadata": {},
   "source": [
    "Q.3)  what are comment in python, and why they useful? provide an example"
   ]
  },
  {
   "cell_type": "raw",
   "id": "f79769f3",
   "metadata": {},
   "source": [
    "comment in python are lines of text that are ignored by the interpreted and do not affect the execution of the code."
   ]
  },
  {
   "cell_type": "raw",
   "id": "193585d4",
   "metadata": {},
   "source": [
    "ex. \n",
    "    # use\n",
    "1) also be used to temporarly disable some code for testing or debugging purpose.\n",
    " 2) to write a comment in python, you need to start the line with hash symbol(#) & a space.\n",
    "    "
   ]
  },
  {
   "cell_type": "code",
   "execution_count": 12,
   "id": "0298e681",
   "metadata": {},
   "outputs": [
    {
     "name": "stdout",
     "output_type": "stream",
     "text": [
      "hello, world !\n"
     ]
    }
   ],
   "source": [
    "# ex.\n",
    "# this is single line comment.\n",
    "\n",
    "print(\"hello, world !\")  # this is an inline comment"
   ]
  },
  {
   "cell_type": "code",
   "execution_count": 17,
   "id": "6b20d647",
   "metadata": {},
   "outputs": [
    {
     "data": {
      "text/plain": [
       "'\\nthis is multi-line comment\\nthat spans multiple lines\\n'"
      ]
     },
     "execution_count": 17,
     "metadata": {},
     "output_type": "execute_result"
    }
   ],
   "source": [
    "# you can also write multi line comment by using triple quotes(\"\"\" \"\"\") atthe begning and end of the comment.\n",
    "\n",
    "\"\"\"\n",
    "this is multi-line comment\n",
    "that spans multiple lines\n",
    "\"\"\""
   ]
  },
  {
   "cell_type": "code",
   "execution_count": 20,
   "id": "78f0a6a5",
   "metadata": {},
   "outputs": [],
   "source": [
    "# a better way to write multiline comment is use a hash(#) for each line of a comment\n",
    "\n"
   ]
  },
  {
   "cell_type": "code",
   "execution_count": 21,
   "id": "f51516e9",
   "metadata": {},
   "outputs": [],
   "source": [
    "# this is multiline comment\n",
    "# that is spans multiple line"
   ]
  },
  {
   "cell_type": "raw",
   "id": "2318cf19",
   "metadata": {},
   "source": [
    "useful reasons"
   ]
  },
  {
   "cell_type": "raw",
   "id": "6084a19d",
   "metadata": {},
   "source": [
    " 1) they help you & other programmer understand the logic & purpose of the code.\n",
    " 2) they help you organize and structure the code into sections or modules.\n",
    "3) they help you debug or test the code by commenting out some lines or block of code.\n",
    "4) they help you improve the quality and maintainability of the code."
   ]
  },
  {
   "cell_type": "code",
   "execution_count": null,
   "id": "84a7f68a",
   "metadata": {},
   "outputs": [],
   "source": []
  },
  {
   "cell_type": "raw",
   "id": "732661fd",
   "metadata": {},
   "source": [
    "Q.4) why is proper indentation important in python?"
   ]
  },
  {
   "cell_type": "raw",
   "id": "6e9cf4ec",
   "metadata": {},
   "source": [
    "beacause - it is part of syntax and determine the structure of the code.\n",
    "2)   unlike other programming language that use braces of keywords to define block of code, python use indentation to dedicate a block of code.\n",
    "3)  this means that all statement with tha same distance to the right belong to the same block of code.\n",
    "4)  if the indentation is not consistent python will raise an INDENTATION ERROR and the code will not run.\n",
    "5)  there for, proper indentation in python code, improves code raadability , helps to identify logical blocks, and prevent syntax.\n"
   ]
  },
  {
   "cell_type": "raw",
   "id": "7857d91d",
   "metadata": {},
   "source": [
    "ex. incorrect indentaion"
   ]
  },
  {
   "cell_type": "code",
   "execution_count": 3,
   "id": "33b2df21",
   "metadata": {},
   "outputs": [
    {
     "ename": "NameError",
     "evalue": "name 'x' is not defined",
     "output_type": "error",
     "traceback": [
      "\u001b[1;31m---------------------------------------------------------------------------\u001b[0m",
      "\u001b[1;31mNameError\u001b[0m                                 Traceback (most recent call last)",
      "Cell \u001b[1;32mIn[3], line 1\u001b[0m\n\u001b[1;32m----> 1\u001b[0m \u001b[38;5;28;01mif\u001b[39;00m x \u001b[38;5;241m==\u001b[39m \u001b[38;5;241m1\u001b[39m:\n\u001b[0;32m      2\u001b[0m     \u001b[38;5;28mprint\u001b[39m(\u001b[38;5;124m\"\u001b[39m\u001b[38;5;124mx is one\u001b[39m\u001b[38;5;124m\"\u001b[39m)\n",
      "\u001b[1;31mNameError\u001b[0m: name 'x' is not defined"
     ]
    }
   ],
   "source": [
    "if x == 1:\n",
    "    print(\"x is one\")"
   ]
  },
  {
   "cell_type": "code",
   "execution_count": null,
   "id": "984ae04a",
   "metadata": {},
   "outputs": [],
   "source": []
  },
  {
   "cell_type": "raw",
   "id": "e5c4f3c9",
   "metadata": {},
   "source": [
    "Q.5) what happen if indentation in incorrect  in python?"
   ]
  },
  {
   "cell_type": "raw",
   "id": "01f64b26",
   "metadata": {},
   "source": [
    "*  the code will not run and will raise and indentation error.\n",
    "* this is beacause python use indentation to determine the structure and logic of code.\n",
    "* indentation error can occur due to misplacing gaps, spaces, using tab and space, in consisstently , failig to properly indent compund statement of spacing some indent wrong.\n",
    "* to fix indentation errors, you have to observe indent, by which it will be able to define the correct space of various loops.\n",
    "*  you can also use a proper IDE that can help you with indentation."
   ]
  },
  {
   "cell_type": "code",
   "execution_count": null,
   "id": "521da846",
   "metadata": {},
   "outputs": [],
   "source": []
  },
  {
   "cell_type": "raw",
   "id": "88fecce4",
   "metadata": {},
   "source": [
    "Q.6) difference between expression and statement in python will examples."
   ]
  },
  {
   "cell_type": "markdown",
   "id": "ce90207a",
   "metadata": {},
   "source": [
    "1) in python, as expression is a peice of code that evaluates to a value, such as a number, a string, or an object.\n",
    "*   a statement is a piece of code that performs, some action, such as assigning a variable printing value, or looping over a sequence.\n",
    "2) expression can be part of statements, but not vice versa.\n",
    "\n"
   ]
  },
  {
   "cell_type": "code",
   "execution_count": 4,
   "id": "e9a9146f",
   "metadata": {},
   "outputs": [
    {
     "data": {
      "text/plain": [
       "7"
      ]
     },
     "execution_count": 4,
     "metadata": {},
     "output_type": "execute_result"
    }
   ],
   "source": [
    "# this is an expression that evaluate to 7\n",
    "3+4"
   ]
  },
  {
   "cell_type": "code",
   "execution_count": 6,
   "id": "eb23e182",
   "metadata": {},
   "outputs": [],
   "source": [
    "# this is a statement that assign the value 7 to x\n",
    "x = 3+4"
   ]
  },
  {
   "cell_type": "code",
   "execution_count": 7,
   "id": "bb1c6394",
   "metadata": {},
   "outputs": [
    {
     "name": "stdout",
     "output_type": "stream",
     "text": [
      "7\n"
     ]
    }
   ],
   "source": [
    "# this is a statement that the print the value of x\n",
    "print(x)"
   ]
  },
  {
   "cell_type": "code",
   "execution_count": 8,
   "id": "f6ea73cc",
   "metadata": {},
   "outputs": [
    {
     "name": "stdout",
     "output_type": "stream",
     "text": [
      "1\n",
      "2\n",
      "3\n"
     ]
    }
   ],
   "source": [
    "# this is a statement that loops over a list of numbers adn print each one\n",
    "\n",
    "for n in [1,2,3]:\n",
    "    print(n)"
   ]
  },
  {
   "cell_type": "code",
   "execution_count": null,
   "id": "91888462",
   "metadata": {},
   "outputs": [],
   "source": []
  }
 ],
 "metadata": {
  "kernelspec": {
   "display_name": "Python 3 (ipykernel)",
   "language": "python",
   "name": "python3"
  },
  "language_info": {
   "codemirror_mode": {
    "name": "ipython",
    "version": 3
   },
   "file_extension": ".py",
   "mimetype": "text/x-python",
   "name": "python",
   "nbconvert_exporter": "python",
   "pygments_lexer": "ipython3",
   "version": "3.11.5"
  }
 },
 "nbformat": 4,
 "nbformat_minor": 5
}
